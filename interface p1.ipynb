{
 "cells": [
  {
   "cell_type": "code",
   "execution_count": 1,
   "metadata": {},
   "outputs": [
    {
     "ename": "SyntaxError",
     "evalue": "invalid syntax (<ipython-input-1-7270002b304d>, line 1)",
     "output_type": "error",
     "traceback": [
      "\u001b[1;36m  File \u001b[1;32m\"<ipython-input-1-7270002b304d>\"\u001b[1;36m, line \u001b[1;32m1\u001b[0m\n\u001b[1;33m    with open\u001b[0m\n\u001b[1;37m             ^\u001b[0m\n\u001b[1;31mSyntaxError\u001b[0m\u001b[1;31m:\u001b[0m invalid syntax\n"
     ]
    }
   ],
   "source": [
    "with open\n",
    "read"
   ]
  },
  {
   "cell_type": "code",
   "execution_count": 4,
   "metadata": {},
   "outputs": [],
   "source": [
    "import tkinter\n",
    "import os\n",
    "\n",
    "def afficher_table(table, titre =\"\", debut = 0, fin = None):\n",
    "\t\"\"\"\n",
    "\tAffiche une table.\n",
    "\tCette fonction était demandée dans le sujet.\n",
    "\tOn peut avoir un affichage en console ou dans une fenêtre tkinter\n",
    "\tCependant, on la redéfini ci-dessous.\n",
    "\tAuteurs: M\n",
    "\tArguments:\n",
    "\t\ttable: une liste de tuples\n",
    "\t\ttitre: str du titre à afficher avant la table\n",
    "\t\tdebut: indice de la première ligne que l'on veut afficher\n",
    "\t\tfin: indice de la dernière ligne que l'on veut afficher\n",
    "\t\t\tsi fin est à None, on affiche jusqu'à la dernière ligne\n",
    "\tRenvoi:\n",
    "\t\trien\n",
    "\t\"\"\"\n",
    "\tif titre != \"\":\n",
    "\t\ttitre += \"\\n\\n\"\n",
    "\t#print(titre + texte_table(table, debut, fin))\n",
    "\taffichage(titre + texte_table(table, debut, fin), titre)\n",
    "\n",
    "\n",
    "def affichage(texte, titre = \"Requêtes tables\"):\n",
    "\t\"\"\"\n",
    "\tAffiche un texte (résultat d'une requête)\n",
    "\tdans une fenêtre tkinter\n",
    "\tAuteurs: M\n",
    "\tArguments:\n",
    "\t\ttexte: str du texte à afficher\n",
    "\t\ttitre: str du titre de la fenêtre\n",
    "\tRenvoi:\n",
    "\t\trien\n",
    "\t\"\"\"\n",
    "\troot = tkinter.Tk()\n",
    "\troot.title(str(titre))\n",
    "\tRWidth=root.winfo_screenwidth() - 100\n",
    "\tRHeight=root.winfo_screenheight() - 100\n",
    "\troot.geometry(\"%dx%d+50+0\"%(RWidth, RHeight))\n",
    "\ttext=tkinter.Text(root, wrap = 'none')\n",
    "\tscroll_x=tkinter.Scrollbar(text.master, orient='horizontal', command = text.xview)\n",
    "\tscroll_x.config(command = text.xview)\n",
    "\ttext.configure(xscrollcommand = scroll_x.set)\n",
    "\tscroll_x.pack(side = 'bottom', fill = 'x', anchor = 'w')\n",
    "\tscroll_y = tkinter.Scrollbar(text.master)\n",
    "\tscroll_y.config(command = text.yview)\n",
    "\ttext.configure(yscrollcommand = scroll_y.set)\n",
    "\tscroll_y.pack(side = tkinter.RIGHT, fill = 'y')\n",
    "\ttext.insert(\"1.0\", texte)\n",
    "\ttext.pack(side = tkinter.LEFT, expand = True, fill = tkinter.BOTH)\n",
    "\troot.mainloop()\n",
    "\n",
    "affichage(\"teste\",titre = \"Requêtes tables\")"
   ]
  },
  {
   "cell_type": "code",
   "execution_count": 2,
   "metadata": {},
   "outputs": [
    {
     "output_type": "error",
     "ename": "SyntaxError",
     "evalue": "invalid syntax (<ipython-input-2-e151d07a3a80>, line 5)",
     "traceback": [
      "\u001b[1;36m  File \u001b[1;32m\"<ipython-input-2-e151d07a3a80>\"\u001b[1;36m, line \u001b[1;32m5\u001b[0m\n\u001b[1;33m    open(\"C:/Projet1/rekekete/sql7.sql\")as tete,\u001b[0m\n\u001b[1;37m                                                ^\u001b[0m\n\u001b[1;31mSyntaxError\u001b[0m\u001b[1;31m:\u001b[0m invalid syntax\n"
     ]
    }
   ],
   "source": [
    "with open(\"C:/Projet1/rekekete/sql2.sql\") as prout, \\\n",
    "        open(\"C:/Projet1/rekekete/sql3.sql\") as titi, \\\n",
    "            open(\"C:/Projet1/rekekete/sql4.sql\") as tata, \\\n",
    "                open(\"C:/Projet1/rekekete/sql5.sql\")as tutu, \\\n",
    "                    open(\"C:/Projet1/rekekete/sql7.sql\")as tete"
   ]
  },
  {
   "cell_type": "code",
   "execution_count": 2,
   "metadata": {},
   "outputs": [],
   "source": [
    "import sqlite3"
   ]
  },
  {
   "cell_type": "code",
   "execution_count": null,
   "metadata": {},
   "outputs": [],
   "source": []
  }
 ],
 "metadata": {
  "kernelspec": {
   "display_name": "Python 3",
   "language": "python",
   "name": "python3"
  },
  "language_info": {
   "codemirror_mode": {
    "name": "ipython",
    "version": 3
   },
   "file_extension": ".py",
   "mimetype": "text/x-python",
   "name": "python",
   "nbconvert_exporter": "python",
   "pygments_lexer": "ipython3",
   "version": "3.8.5-final"
  }
 },
 "nbformat": 4,
 "nbformat_minor": 4
}